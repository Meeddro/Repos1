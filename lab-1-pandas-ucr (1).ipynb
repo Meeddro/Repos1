{
 "cells": [
  {
   "cell_type": "markdown",
   "metadata": {},
   "source": [
    "## Корисні посилання"
   ]
  },
  {
   "cell_type": "markdown",
   "metadata": {},
   "source": [
    "**Початок роботи**\n",
    "\n",
    "- Anaconda (дистрибутив для Python, що містить в тому числі Jupyter Notebook і сам Python): https://www.anaconda.com/download/ - рекомендується версія Python 3.6 або більше; не забудьте вибрати потрібну операційну систему!\n",
    "- документація по Jupyter: https://jupyter.readthedocs.io/en/latest/\n",
    "- документація по pip (для установки пакетов в Python с помощью pip install): https://pip.readthedocs.io/en/latest/\n",
    "- PyCharm: https://www.jetbrains.com/pycharm/\n",
    "\n",
    "**Загальні**\n",
    "\n",
    "- для будь-яких питань: https://www.google.com/\n",
    "- для (майже) будь-яких відповідей: https://stackoverflow.com/\n",
    "- [a professional information and analytical resource dedicated to machine learning, pattern recognition, and data mining](http://www.machinelearning.ru/wiki/index.php?title=%D0%97%D0%B0%D0%B3%D0%BB%D0%B0%D0%B2%D0%BD%D0%B0%D1%8F_%D1%81%D1%82%D1%80%D0%B0%D0%BD%D0%B8%D1%86%D0%B0)\n",
    "- A visual introduction to machine learning: http://www.r2d3.us/visual-intro-to-machine-learning-part-1/\n",
    "\n",
    "**Python & Jupyter**\n",
    "\n",
    "- A Crash Course in Python for Scientists: http://nbviewer.jupyter.org/gist/rpmuller/5920182\n",
    "- A Gallery of interesting Jupyter Notebooks: https://github.com/jupyter/jupyter/wiki/A-gallery-of-interesting-Jupyter-Notebooks\n",
    "- Markdown Cheatsheet: https://github.com/adam-p/markdown-here/wiki/Markdown-Cheatsheet\n",
    "\n",
    "**pandas**\n",
    "\n",
    "- документація: http://pandas.pydata.org/pandas-docs/stable/\n",
    "- 10 minutes to pandas: https://pandas.pydata.org/pandas-docs/stable/10min.html\n",
    "- Pandas Tutorial: DataFrames in Python: https://www.datacamp.com/community/tutorials/pandas-tutorial-dataframe-python\n",
    "- Cheet Sheet: https://www.analyticsvidhya.com/blog/2015/07/11-steps-perform-data-analysis-pandas-python/\n",
    "- Visualization: http://pandas.pydata.org/pandas-docs/stable/visualization.html\n",
    "\n",
    "**sklearn**\n",
    "\n",
    "- документація та багато іншого: http://scikit-learn.org/stable/\n",
    "\n",
    "**інші бібліотеки**\n",
    "\n",
    "- matplotlib: https://matplotlib.org/users/pyplot_tutorial.html\n",
    "- seaborn: http://seaborn.pydata.org/"
   ]
  },
  {
   "cell_type": "markdown",
   "metadata": {},
   "source": [
    "## Лабораторна робота 1: робота з Pandas.\n",
    "\n",
    "Pandas - це бібліотека Python, що надає широкі можливості для аналізу даних. З її допомогою дуже зручно завантажувати, обробляти і аналізувати табличні дані за допомогою SQL-подібних запитів."
   ]
  },
  {
   "cell_type": "code",
   "execution_count": 39,
   "metadata": {},
   "outputs": [],
   "source": [
    "import pandas as pd"
   ]
  },
  {
   "cell_type": "markdown",
   "metadata": {},
   "source": [
    "Основними структурами даних в Pandas є класи Series і DataFrame. Перший з них являє собою одномірний індексований масив даних деякого фіксованого типу. Другий - це двовимірна структура даних, що представляє собою таблицю, кожен стовпець якої містить дані одного типу. Можна представляти її як словник об'єктів типу Series."
   ]
  },
  {
   "cell_type": "markdown",
   "metadata": {},
   "source": [
    "За допомогою бібліотеки Pandas займемося аналізом даних. Будемо працювати з даними про клієнтів банку, який цікавиться, чи відбудеться прострочення платежу на 90 і більше днів при видачі кредиту. "
   ]
  },
  {
   "cell_type": "markdown",
   "metadata": {},
   "source": [
    "### 1\n",
    "Прочитайте дані з файлу data.csv\n",
    "\n",
    "*Функції, які можуть стати в нагоді при вирішенні: `pd.read_csv(..., delimiter=',')`*"
   ]
  },
  {
   "cell_type": "code",
   "execution_count": null,
   "metadata": {},
   "outputs": [],
   "source": [
    "# Місце для коду"
   ]
  },
  {
   "cell_type": "markdown",
   "metadata": {},
   "source": [
    "### 2\n",
    "Виведіть опис прочитаних даних. \n",
    "\n",
    "*Функції, які можуть стати в нагоді при вирішенні: `.describe()`*"
   ]
  },
  {
   "cell_type": "code",
   "execution_count": null,
   "metadata": {},
   "outputs": [],
   "source": [
    "# Місце для коду"
   ]
  },
  {
   "cell_type": "markdown",
   "metadata": {},
   "source": [
    "### 3\n",
    "Відкрийте кілька перших і кілька останніх записів.\n",
    "\n",
    "*Функції, які можуть стати в нагоді при вирішенні: `.head(), .tail()`*\n",
    "\n",
    "*Які параметри можна передати цих функцій?*"
   ]
  },
  {
   "cell_type": "code",
   "execution_count": null,
   "metadata": {},
   "outputs": [],
   "source": [
    "# Місце для коду"
   ]
  },
  {
   "cell_type": "markdown",
   "metadata": {},
   "source": [
    "### 4\n",
    "Прочитайте в файлі DataDictionary-ru.txt, що означають стовпці матриці. Якого типу належить кожен стовпець (речовинний, цілий, категоріальний)?"
   ]
  },
  {
   "cell_type": "code",
   "execution_count": null,
   "metadata": {},
   "outputs": [],
   "source": [
    "# Місце для відповіді"
   ]
  },
  {
   "cell_type": "markdown",
   "metadata": {},
   "source": [
    "### 5\n",
    "\n",
    "Зауважте, що стовпець DebtRatio містить неправдоподібні дані. Тільки значення, відповідні відомому місячного доходу, є відносинами. Решта - абсолютні значення місячних виплат відсотків. \n",
    "\n",
    "Виправте дані, зробивши все значення стовпця DebtRatio абсолютними (помножте їх на MonthlyIncome). Щоб ваша програма швидко працювала на повних даних, постарайтеся не використовувати цикл."
   ]
  },
  {
   "cell_type": "markdown",
   "metadata": {},
   "source": [
    "#### *Функції, які можуть стати в нагоді при вирішенні:*\n",
    "\n",
    "Звернення до елементів  DataFrame:\n",
    "  * елемент: `data.loc[i, 'назваСтовпця']`\n",
    "  * Стовпець: `data['назваСтовпця']`\n",
    "  * підматриця: `data.loc[a:b, списокНазвСтовпців]`\n",
    "\n",
    "Умовна індексація:\n",
    "* `data.loc[data['Стовбець'] > 20, списокНазвСтовпців]`\n",
    "\n",
    "краще писати так:\n",
    "\n",
    "* `i = data['Стовпець'] > 20`  # вектор `True` и `False`\n",
    "* `data.loc[i, 'назваСтовпця']`\n",
    "\n",
    "У підматриць номера рядків успадковуються від вихідної.\n",
    "\n",
    "* `pandas.isnull((скаляр або масив) - перевірка, чи є значення невизначеним (`NaN`)\n",
    "* `pandas.notnull(скаляр або масив) - перевірка, чи є значення певним (не `NaN`)"
   ]
  },
  {
   "cell_type": "code",
   "execution_count": 22,
   "metadata": {
    "scrolled": true
   },
   "outputs": [],
   "source": [
    "# Місце для коду"
   ]
  },
  {
   "cell_type": "markdown",
   "metadata": {},
   "source": [
    "### 6\n",
    "\n",
    "Змініть ім'я стовпця на  `Debt`.\n",
    "\n",
    "*Функції, які можуть стати в нагоді при вирішенні: `.rename(columns={'староеИмя':'новоеИмя'}, inplace=True)`*"
   ]
  },
  {
   "cell_type": "code",
   "execution_count": 24,
   "metadata": {},
   "outputs": [],
   "source": [
    "# Місце для коду"
   ]
  },
  {
   "cell_type": "markdown",
   "metadata": {},
   "source": [
    "### 7\n",
    "\n",
    "Обчисліть середній щомісячний дохід і надайте всім клієнтам з невідомим доходом отримане число.\n",
    "\n",
    "*Функції, які можуть стати в нагоді при вирішенні: `.mean()`*\n",
    "\n",
    "*Інші описові статистики:* https://pandas.pydata.org/pandas-docs/stable/reference/frame.html#computations-descriptive-stats"
   ]
  },
  {
   "cell_type": "code",
   "execution_count": null,
   "metadata": {},
   "outputs": [],
   "source": [
    "# Місце для коду"
   ]
  },
  {
   "cell_type": "markdown",
   "metadata": {},
   "source": [
    "### 8\n",
    "\n",
    "Використовуючи метод groupby, оцініть ймовірності неповернення кредиту (SeriousDlqin2yrs = 1) для різних значень кількості утриманців (`NumberOfDependents`).  \n",
    "\n",
    "Проробіть аналогічну процедуру для різних значень стовпця `NumberRealEstateLoansOrLines`\n",
    "\n",
    "*Підказка:*\n",
    "`data['Стовпець1'].groupby(data['Стовпець2']).mean()`  *-- розрахунок середніх значень стовпця1 по групах з стовпця2*"
   ]
  },
  {
   "cell_type": "code",
   "execution_count": null,
   "metadata": {
    "scrolled": true
   },
   "outputs": [],
   "source": [
    "# Місце для коду"
   ]
  },
  {
   "cell_type": "markdown",
   "metadata": {},
   "source": [
    "## візуалізація даних"
   ]
  },
  {
   "cell_type": "code",
   "execution_count": 13,
   "metadata": {},
   "outputs": [],
   "source": [
    "import matplotlib.pyplot as plt\n",
    "\n",
    "#  Функція, що дозволяє виводити графіки прямо в ноутбук\n",
    "%matplotlib inline"
   ]
  },
  {
   "cell_type": "markdown",
   "metadata": {},
   "source": [
    "Matplotlib Matplotlib дозволяє зручно візуалізувати табличні дані.\n",
    "\n",
    "*Функції, які можуть стати в нагоді при вирішенні:*\n",
    "\n",
    "* Малювання:\n",
    "   * `plt.plot(x, y)`  див. докладніше http://matplotlib.org/api/pyplot_api.html#matplotlib.pyplot.plot\n",
    "   * `plt.show()`\n",
    "   * `plt.scatter(x, y)` - графік розсіювання, див. http://matplotlib.org/api/pyplot_api.html#matplotlib.pyplot.scatter\n",
    "   * `plt.hist()` - гістограма, див. http://matplotlib.org/api/pyplot_api.html#matplotlib.pyplot.hist\n",
    "* Малювання декількох графіків на одному:\n",
    "\n",
    "  `fig, ax = plt.subplots()\n",
    "   ax.hist(...)\n",
    "   ax.hist(...)\n",
    "   plt.show()`\n",
    "   \n",
    "* Логарифмічна шкала:\n",
    "    * `ax.set_xscale('log')`  або `ax.set_yscale('log')`\n",
    "* Обмеження області графіка:\n",
    "    * `ax.axis([x1, x2, y1, y2])`\n",
    "\n",
    "\n",
    "### 9a\n",
    "\n",
    "Побудуйте графік розсіювання на осях age і Debt. Cінім відзначте клієнтів без серйозних заборгованостей (SeriousDlqin2yrs = 0) і червоним - боржників (`SeriousDlqin2yrs = 1`)."
   ]
  },
  {
   "cell_type": "code",
   "execution_count": null,
   "metadata": {},
   "outputs": [],
   "source": [
    "# Місце для коду"
   ]
  },
  {
   "cell_type": "markdown",
   "metadata": {},
   "source": [
    "### 9b\n",
    "Побудуйте на одному графіку дві нормовані щільності розподілу: червону - для місячного доходу клієнтів із заборгованостями, синю - для місячного доходу клієнтів без заборгованостей. По осі абсцис відобразите значення до 25000."
   ]
  },
  {
   "cell_type": "code",
   "execution_count": null,
   "metadata": {},
   "outputs": [],
   "source": [
    "# Місце для коду"
   ]
  },
  {
   "cell_type": "markdown",
   "metadata": {},
   "source": [
    "### 9c*\n",
    "Візуалізують попарні залежності між небінарнимі ознаками 'age', 'MonthlyIncome', 'NumberOfDependents'. Обмежте при цьому місячний дохід значенням 25000.\n",
    "\n",
    "Які закономірності ви можете спостерігати на одержаних графіках?\n",
    "\n",
    "*Функції, які можуть стати в нагоді при вирішенні: `pd.plotting.scatter_matrix()`*"
   ]
  },
  {
   "cell_type": "code",
   "execution_count": null,
   "metadata": {},
   "outputs": [],
   "source": [
    "# Місце для коду"
   ]
  }
 ],
 "metadata": {
  "kernelspec": {
   "display_name": "Python 3 (ipykernel)",
   "language": "python",
   "name": "python3"
  },
  "language_info": {
   "codemirror_mode": {
    "name": "ipython",
    "version": 3
   },
   "file_extension": ".py",
   "mimetype": "text/x-python",
   "name": "python",
   "nbconvert_exporter": "python",
   "pygments_lexer": "ipython3",
   "version": "3.9.12"
  }
 },
 "nbformat": 4,
 "nbformat_minor": 2
}
